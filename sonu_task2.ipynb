{
  "nbformat": 4,
  "nbformat_minor": 0,
  "metadata": {
    "colab": {
      "provenance": [],
      "mount_file_id": "1Zeaz5-ur_caLCuA7sds2v7Q5Srk26Djo",
      "authorship_tag": "ABX9TyMx+mACAfjjnVHUqEMEPRKp",
      "include_colab_link": true
    },
    "kernelspec": {
      "name": "python3",
      "display_name": "Python 3"
    },
    "language_info": {
      "name": "python"
    }
  },
  "cells": [
    {
      "cell_type": "markdown",
      "metadata": {
        "id": "view-in-github",
        "colab_type": "text"
      },
      "source": [
        "<a href=\"https://colab.research.google.com/github/sonuj04/Gray-Interface-Tasks/blob/sonuj/sonu_task2.ipynb\" target=\"_parent\"><img src=\"https://colab.research.google.com/assets/colab-badge.svg\" alt=\"Open In Colab\"/></a>"
      ]
    },
    {
      "cell_type": "code",
      "execution_count": 3,
      "metadata": {
        "colab": {
          "base_uri": "https://localhost:8080/"
        },
        "id": "AX7LTHogugva",
        "outputId": "85349ad7-9296-4092-cc43-30fbd9e58497"
      },
      "outputs": [
        {
          "output_type": "stream",
          "name": "stdout",
          "text": [
            "hi this is sonu\n",
            "this is the first file from which text will be read and then written in text_file_2 \n",
            "line 3 \n",
            "line 4\n",
            "line 5\n",
            "line 6\n",
            "line 7\n"
          ]
        }
      ],
      "source": [
        "#task1\n",
        "a=open('sonu_text_1.txt','r')\n",
        "c=a.read()\n",
        "print(c)\n",
        "a.close()\n",
        "b=open('sonu_text_2.txt','w')\n",
        "print(b.write(c))\n",
        "b.close()"
      ]
    },
    {
      "cell_type": "code",
      "source": [
        "#task2\n",
        "x=open('sonu_text_3.txt','w')\n",
        "sonu={\n",
        "    'sonu':'good',\n",
        "    'nitp':'bad'\n",
        "}\n",
        "y=x.write(str(sonu))\n",
        "print(y)\n",
        "x.close()"
      ],
      "metadata": {
        "colab": {
          "base_uri": "https://localhost:8080/"
        },
        "id": "-F6wP5N62I6j",
        "outputId": "fcbbbf24-0dd6-43b5-95e1-a9b0f9b1d47b"
      },
      "execution_count": 4,
      "outputs": [
        {
          "output_type": "stream",
          "name": "stdout",
          "text": [
            "31\n"
          ]
        }
      ]
    },
    {
      "cell_type": "code",
      "source": [
        "#task3\n",
        "import os\n",
        "m=os.path.getsize('sonu_text_1.txt')\n",
        "print(f\"{m} bytes\")"
      ],
      "metadata": {
        "colab": {
          "base_uri": "https://localhost:8080/"
        },
        "id": "vufjlXt22Oox",
        "outputId": "8f1fe968-0445-4bd6-e2b9-bb5a21b778d5"
      },
      "execution_count": 5,
      "outputs": [
        {
          "output_type": "stream",
          "name": "stdout",
          "text": [
            "142 bytes\n"
          ]
        }
      ]
    },
    {
      "cell_type": "code",
      "source": [
        "#task5\n",
        "p=open('sonu_text_1.txt','r')\n",
        "q=p.readlines()\n",
        "print(f\"printing lines of index 1 to 5:\\n {q[2:6]}\")\n",
        "print(f\"printing line of index 3:\\n {q[3]}\")\n",
        "p.close()"
      ],
      "metadata": {
        "colab": {
          "base_uri": "https://localhost:8080/"
        },
        "id": "jKZk65Bw2nrM",
        "outputId": "6ece002d-a6e2-4039-f4bf-ab07a7fde7de"
      },
      "execution_count": 6,
      "outputs": [
        {
          "output_type": "stream",
          "name": "stdout",
          "text": [
            "printing lines of index 1 to 5:\n",
            " ['line 3 \\n', 'line 4\\n', 'line 5\\n', 'line 6\\n']\n",
            "printing line of index 3:\n",
            " line 4\n",
            "\n"
          ]
        }
      ]
    },
    {
      "cell_type": "code",
      "source": [
        "#task4\n",
        "a = open(\"sonu_text_4.txt\", \"r\")\n",
        "diction = dict()\n",
        "for line in a:\n",
        "    words = line.split(\" \") #splitting into words\n",
        "    for i in words:\n",
        "        if i in diction:\n",
        "            diction[i] = diction[i] + 1\n",
        "        else:\n",
        "            diction[i] = 1\n",
        "for w in list(diction.keys()):\n",
        "    print(f\"{w} occurs {diction[w]} times\")\n",
        "a.close()"
      ],
      "metadata": {
        "colab": {
          "base_uri": "https://localhost:8080/"
        },
        "id": "HV-bYuln2rPQ",
        "outputId": "0ef9f5d2-36e1-457c-f165-4aff76066135"
      },
      "execution_count": 7,
      "outputs": [
        {
          "output_type": "stream",
          "name": "stdout",
          "text": [
            "sonu occurs 5 times\n",
            "keya occurs 1 times\n",
            "life occurs 1 times\n",
            "nitp occurs 1 times\n",
            "shreya occurs 1 times\n",
            "sudha occurs 1 times\n"
          ]
        }
      ]
    },
    {
      "cell_type": "code",
      "source": [],
      "metadata": {
        "id": "eKVkAmxK2v2b"
      },
      "execution_count": null,
      "outputs": []
    }
  ]
}