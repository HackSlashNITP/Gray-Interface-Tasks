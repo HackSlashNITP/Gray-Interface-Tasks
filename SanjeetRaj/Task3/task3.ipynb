{
 "cells": [
  {
   "cell_type": "code",
   "execution_count": 92,
   "metadata": {},
   "outputs": [],
   "source": [
    "import numpy as np\n"
   ]
  },
  {
   "cell_type": "code",
   "execution_count": 93,
   "metadata": {},
   "outputs": [
    {
     "data": {
      "text/plain": [
       "array([3.51e-322, 7.41e-323, 2.17e-322, 8.89e-323, 3.46e-322, 1.38e-322,\n",
       "       4.40e-322, 2.17e-322, 3.95e-323])"
      ]
     },
     "execution_count": 93,
     "metadata": {},
     "output_type": "execute_result"
    }
   ],
   "source": [
    "# 1.Create an empty and full array\n",
    "# Empty array\n",
    "nums1=np.empty(9)\n",
    "nums1"
   ]
  },
  {
   "cell_type": "code",
   "execution_count": 94,
   "metadata": {},
   "outputs": [
    {
     "data": {
      "text/plain": [
       "array([[23, 23, 23, 23, 23, 23]])"
      ]
     },
     "execution_count": 94,
     "metadata": {},
     "output_type": "execute_result"
    }
   ],
   "source": [
    "# Full array\n",
    "nums2=np.full((1,6),23)\n",
    "nums2"
   ]
  },
  {
   "cell_type": "code",
   "execution_count": 95,
   "metadata": {},
   "outputs": [
    {
     "data": {
      "text/plain": [
       "array([[0., 0., 0.],\n",
       "       [0., 0., 0.],\n",
       "       [0., 0., 0.]])"
      ]
     },
     "execution_count": 95,
     "metadata": {},
     "output_type": "execute_result"
    }
   ],
   "source": [
    "# 2.Array with all zeroes\n",
    "numsZeroes=np.zeros((3,3))\n",
    "numsZeroes"
   ]
  },
  {
   "cell_type": "code",
   "execution_count": 96,
   "metadata": {},
   "outputs": [
    {
     "data": {
      "text/plain": [
       "array([[1, 1, 1],\n",
       "       [1, 1, 1],\n",
       "       [1, 1, 1]])"
      ]
     },
     "execution_count": 96,
     "metadata": {},
     "output_type": "execute_result"
    }
   ],
   "source": [
    "# 3.Array with all ones\n",
    "numsOnes=np.ones((3,3),dtype=int)\n",
    "numsOnes"
   ]
  },
  {
   "cell_type": "code",
   "execution_count": 97,
   "metadata": {},
   "outputs": [
    {
     "data": {
      "text/plain": [
       "array([[11, 14, 17],\n",
       "       [20, 23, 26],\n",
       "       [29, 32, 35]])"
      ]
     },
     "execution_count": 97,
     "metadata": {},
     "output_type": "execute_result"
    }
   ],
   "source": [
    "# 4.Replace numpy array elements that does not follow a given condition\n",
    "\n",
    "nums5=np.arange(11,38,3).reshape(3,3)\n",
    "# before replacement\n",
    "nums5"
   ]
  },
  {
   "cell_type": "code",
   "execution_count": 98,
   "metadata": {},
   "outputs": [
    {
     "data": {
      "text/plain": [
       "array([[nan, 14., nan],\n",
       "       [20., nan, 26.],\n",
       "       [nan, 32., nan]])"
      ]
     },
     "execution_count": 98,
     "metadata": {},
     "output_type": "execute_result"
    }
   ],
   "source": [
    "# Condition :elements divisible by 2\n",
    "cond=nums5%2==0\n",
    "# Replacing all the elements which are not divisible by two with nan\n",
    "nums5=np.where(cond,nums5,np.nan)\n",
    "nums5"
   ]
  },
  {
   "cell_type": "code",
   "execution_count": 99,
   "metadata": {},
   "outputs": [
    {
     "name": "stdout",
     "output_type": "stream",
     "text": [
      "[[84 68 26]\n",
      " [46 73 54]\n",
      " [85 86 63]]\n",
      "maximum value: 86\n"
     ]
    }
   ],
   "source": [
    "# 5.Getting maximum value from a matrix\n",
    "nums6=np.random.randint(100,size=(3,3))\n",
    "print(nums6)\n",
    "# Max value\n",
    "print(\"maximum value:\",nums6.max())"
   ]
  }
 ],
 "metadata": {
  "kernelspec": {
   "display_name": "Python 3",
   "language": "python",
   "name": "python3"
  },
  "language_info": {
   "codemirror_mode": {
    "name": "ipython",
    "version": 3
   },
   "file_extension": ".py",
   "mimetype": "text/x-python",
   "name": "python",
   "nbconvert_exporter": "python",
   "pygments_lexer": "ipython3",
   "version": "3.10.12"
  }
 },
 "nbformat": 4,
 "nbformat_minor": 2
}
