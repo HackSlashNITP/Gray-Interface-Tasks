{
  "nbformat": 4,
  "nbformat_minor": 0,
  "metadata": {
    "colab": {
      "provenance": []
    },
    "kernelspec": {
      "name": "python3",
      "display_name": "Python 3"
    },
    "language_info": {
      "name": "python"
    }
  },
  "cells": [
    {
      "cell_type": "markdown",
      "source": [
        "# 1. How to get list of parameters name from a function in Python? (example code)"
      ],
      "metadata": {
        "id": "Mph40-wXBA0g"
      }
    },
    {
      "cell_type": "code",
      "source": [
        "import inspect\n",
        "\n",
        "def powers(base, exponent):\n",
        "\treturn base**exponent\n",
        "\n",
        "print(f\"Arguments are {inspect.signature(powers)}\")\n"
      ],
      "metadata": {
        "colab": {
          "base_uri": "https://localhost:8080/",
          "height": 0
        },
        "id": "2h7s0tptAjYe",
        "outputId": "63fb24ac-eee0-4a49-bfeb-5a38f6b1dfd7"
      },
      "execution_count": 1,
      "outputs": [
        {
          "output_type": "stream",
          "name": "stdout",
          "text": [
            "Arguments are (base, exponent)\n"
          ]
        }
      ]
    },
    {
      "cell_type": "markdown",
      "source": [
        "# 2. How to Print Multiple Arguments in Python? (example code)"
      ],
      "metadata": {
        "id": "FpZPnjyZBObD"
      }
    },
    {
      "cell_type": "code",
      "source": [
        "base = 2\n",
        "exponent = 5\n",
        "print(\"Base and exponents are {0} and {1} respectively.\".format(base, exponent))"
      ],
      "metadata": {
        "colab": {
          "base_uri": "https://localhost:8080/",
          "height": 0
        },
        "id": "9PvvoMraBTRB",
        "outputId": "0fada83c-1579-43de-fc71-5a136bdc0fcf"
      },
      "execution_count": 2,
      "outputs": [
        {
          "output_type": "stream",
          "name": "stdout",
          "text": [
            "Base and exponents are 2 and 5 respectively.\n"
          ]
        }
      ]
    },
    {
      "cell_type": "markdown",
      "source": [
        "# 3. Python program to find the power of a number using recursion\n"
      ],
      "metadata": {
        "id": "DwWS_lenC6k2"
      }
    },
    {
      "cell_type": "code",
      "source": [
        "def power(base, exponent):\n",
        "  if exponent==0:\n",
        "    return 1\n",
        "  else:\n",
        "    return base*power(base, exponent-1)\n",
        "\n",
        "print(f\"Answer = {power(2,5)}\")"
      ],
      "metadata": {
        "colab": {
          "base_uri": "https://localhost:8080/",
          "height": 0
        },
        "id": "Sq6O2HTYDAYu",
        "outputId": "7ca5eaed-9e75-4e8d-b104-4062cac2def1"
      },
      "execution_count": 3,
      "outputs": [
        {
          "output_type": "stream",
          "name": "stdout",
          "text": [
            "Answer = 32\n"
          ]
        }
      ]
    }
  ]
}