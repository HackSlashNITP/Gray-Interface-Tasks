{
  "nbformat": 4,
  "nbformat_minor": 0,
  "metadata": {
    "colab": {
      "provenance": []
    },
    "kernelspec": {
      "name": "python3",
      "display_name": "Python 3"
    },
    "language_info": {
      "name": "python"
    }
  },
  "cells": [
    {
      "cell_type": "code",
      "execution_count": 1,
      "metadata": {
        "id": "tArt44eRtOLz"
      },
      "outputs": [],
      "source": [
        "import numpy as np"
      ]
    },
    {
      "cell_type": "markdown",
      "source": [
        "# 1. Create an empty and a full NumPy array?"
      ],
      "metadata": {
        "id": "8AeDVAv7uB7C"
      }
    },
    {
      "cell_type": "code",
      "source": [
        "arr = np.empty(10)\n",
        "arr"
      ],
      "metadata": {
        "colab": {
          "base_uri": "https://localhost:8080/",
          "height": 0
        },
        "id": "iTfYABpftgz9",
        "outputId": "f6b3349c-541d-4f07-ec7e-068b81538428"
      },
      "execution_count": 2,
      "outputs": [
        {
          "output_type": "execute_result",
          "data": {
            "text/plain": [
              "array([4.99803115e-310, 0.00000000e+000, 6.47287710e+170, 1.87424714e-152,\n",
              "       3.09389978e+169, 3.68575216e+180, 1.09997833e+155, 4.97460740e+180,\n",
              "       4.44389806e+252, 5.86554735e-320])"
            ]
          },
          "metadata": {},
          "execution_count": 2
        }
      ]
    },
    {
      "cell_type": "code",
      "source": [
        "arr = np.full(5, 7)\n",
        "arr"
      ],
      "metadata": {
        "colab": {
          "base_uri": "https://localhost:8080/",
          "height": 0
        },
        "id": "F_cd6J3ctqCX",
        "outputId": "f3614de1-2048-41fd-ff0b-dc014685489f"
      },
      "execution_count": 3,
      "outputs": [
        {
          "output_type": "execute_result",
          "data": {
            "text/plain": [
              "array([7, 7, 7, 7, 7])"
            ]
          },
          "metadata": {},
          "execution_count": 3
        }
      ]
    },
    {
      "cell_type": "markdown",
      "source": [
        "# 2. Create a Numpy array filled with all zeros"
      ],
      "metadata": {
        "id": "4EzOvlmouKHj"
      }
    },
    {
      "cell_type": "code",
      "source": [
        "arr = np.zeros(7)\n",
        "arr"
      ],
      "metadata": {
        "colab": {
          "base_uri": "https://localhost:8080/",
          "height": 0
        },
        "id": "ssWMRqT-uS14",
        "outputId": "de856a7e-1ced-4421-d6f7-8825d6e20b91"
      },
      "execution_count": 4,
      "outputs": [
        {
          "output_type": "execute_result",
          "data": {
            "text/plain": [
              "array([0., 0., 0., 0., 0., 0., 0.])"
            ]
          },
          "metadata": {},
          "execution_count": 4
        }
      ]
    },
    {
      "cell_type": "markdown",
      "source": [
        "# 3. Create a Numpy array filled with all ones"
      ],
      "metadata": {
        "id": "bpSXy0DUu1Ol"
      }
    },
    {
      "cell_type": "code",
      "source": [
        "arr = np.ones(7)\n",
        "arr"
      ],
      "metadata": {
        "colab": {
          "base_uri": "https://localhost:8080/",
          "height": 0
        },
        "id": "AEw_M2oWu46I",
        "outputId": "996e1e35-d258-4bfb-daf6-d2a223dae095"
      },
      "execution_count": 5,
      "outputs": [
        {
          "output_type": "execute_result",
          "data": {
            "text/plain": [
              "array([1., 1., 1., 1., 1., 1., 1.])"
            ]
          },
          "metadata": {},
          "execution_count": 5
        }
      ]
    },
    {
      "cell_type": "markdown",
      "source": [
        "# 4. Replace NumPy array elements that don’t satisfy a given condition"
      ],
      "metadata": {
        "id": "81KpJClpvEsC"
      }
    },
    {
      "cell_type": "code",
      "source": [
        "arr = np.array([1,11,13,12,18,21,97,1011])"
      ],
      "metadata": {
        "id": "Gy5hgpbcvJ1R"
      },
      "execution_count": 6,
      "outputs": []
    },
    {
      "cell_type": "code",
      "source": [
        "newarr = np.where((arr%3==0), arr, arr*3)\n",
        "newarr"
      ],
      "metadata": {
        "colab": {
          "base_uri": "https://localhost:8080/",
          "height": 0
        },
        "id": "58AW4_wcvduS",
        "outputId": "f8f15396-4ffb-456a-9a6a-52be75f2a7af"
      },
      "execution_count": 7,
      "outputs": [
        {
          "output_type": "execute_result",
          "data": {
            "text/plain": [
              "array([   3,   33,   39,   12,   18,   21,  291, 1011])"
            ]
          },
          "metadata": {},
          "execution_count": 7
        }
      ]
    },
    {
      "cell_type": "markdown",
      "source": [
        "# 5. Get the maximum value from a matrix"
      ],
      "metadata": {
        "id": "vnjqgw_nwADX"
      }
    },
    {
      "cell_type": "code",
      "source": [
        "matrix = np.array([[12,21,55],[14,48,74],[69,55,9]])"
      ],
      "metadata": {
        "id": "itC4o30vwFSk"
      },
      "execution_count": 8,
      "outputs": []
    },
    {
      "cell_type": "code",
      "source": [
        "print(np.max(matrix))"
      ],
      "metadata": {
        "colab": {
          "base_uri": "https://localhost:8080/",
          "height": 0
        },
        "id": "3orV3dcOwvaG",
        "outputId": "59371343-30d1-430d-d5b4-7dcf8f20c869"
      },
      "execution_count": 9,
      "outputs": [
        {
          "output_type": "stream",
          "name": "stdout",
          "text": [
            "74\n"
          ]
        }
      ]
    }
  ]
}