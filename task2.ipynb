{
 "cells": [
  {
   "cell_type": "code",
   "execution_count": 28,
   "metadata": {},
   "outputs": [
    {
     "name": "stdout",
     "output_type": "stream",
     "text": [
      "hello hello hello heelo\n",
      " python pithon pygon\n",
      " python python python python "
     ]
    }
   ],
   "source": [
    "contents=[]\n",
    "with open('sample_text1.txt','r') as file:\n",
    "    for line in file:\n",
    "        print(line,end=' ')\n",
    "        contents.append(line)"
   ]
  },
  {
   "cell_type": "code",
   "execution_count": 29,
   "metadata": {},
   "outputs": [
    {
     "data": {
      "text/plain": [
       "['hello hello hello heelo\\n',\n",
       " 'python pithon pygon\\n',\n",
       " 'python python python python']"
      ]
     },
     "execution_count": 29,
     "metadata": {},
     "output_type": "execute_result"
    }
   ],
   "source": [
    "contents"
   ]
  },
  {
   "cell_type": "code",
   "execution_count": 30,
   "metadata": {},
   "outputs": [
    {
     "name": "stdout",
     "output_type": "stream",
     "text": [
      "I'm going to write into this "
     ]
    }
   ],
   "source": [
    "contents2=[]\n",
    "with open('sample_text2.txt','r') as file:\n",
    "    for line in file:\n",
    "        print(line,end=' ')\n",
    "        contents2.append(line)"
   ]
  },
  {
   "cell_type": "code",
   "execution_count": 31,
   "metadata": {},
   "outputs": [],
   "source": [
    "with open('sample_text2.txt','a') as file:\n",
    "    file.write('\\n')\n",
    "    for line in contents:\n",
    "        file.write(line)"
   ]
  },
  {
   "cell_type": "code",
   "execution_count": 32,
   "metadata": {},
   "outputs": [
    {
     "name": "stdout",
     "output_type": "stream",
     "text": [
      "I'm going to write into this\n",
      " hello hello hello heelo\n",
      " python pithon pygon\n",
      " python python python python "
     ]
    }
   ],
   "source": [
    "contents2=[]\n",
    "with open('sample_text2.txt','r') as file:\n",
    "    for line in file:\n",
    "        print(line,end=' ')\n",
    "        contents2.append(line)"
   ]
  },
  {
   "cell_type": "code",
   "execution_count": 33,
   "metadata": {},
   "outputs": [
    {
     "name": "stdout",
     "output_type": "stream",
     "text": [
      "File size in bytes:71\n"
     ]
    }
   ],
   "source": [
    "#to find file size\n",
    "import os\n",
    "file_path='sample_text1.txt'\n",
    "file_size=os.path.getsize(file_path)\n",
    "print(f'File size in bytes:{file_size}')"
   ]
  },
  {
   "cell_type": "code",
   "execution_count": 34,
   "metadata": {},
   "outputs": [],
   "source": [
    "lines_to_read=[1,2]"
   ]
  },
  {
   "cell_type": "markdown",
   "metadata": {},
   "source": [
    "To read specific lines:"
   ]
  },
  {
   "cell_type": "code",
   "execution_count": 35,
   "metadata": {},
   "outputs": [
    {
     "name": "stdout",
     "output_type": "stream",
     "text": [
      "The text in line 1 is hello hello hello heelo\n",
      "\n",
      "The text in line 2 is python pithon pygon\n",
      "\n"
     ]
    }
   ],
   "source": [
    "with open('sample_text1.txt', 'r') as file1:\n",
    "    for line_no,line_text in enumerate(file1,start=1):\n",
    "        if line_no in lines_to_read:\n",
    "            print(f'The text in line {line_no} is {line_text}')"
   ]
  },
  {
   "cell_type": "markdown",
   "metadata": {},
   "source": [
    "To find most common word:"
   ]
  },
  {
   "cell_type": "code",
   "execution_count": 36,
   "metadata": {},
   "outputs": [],
   "source": [
    "import pandas as pd"
   ]
  },
  {
   "cell_type": "code",
   "execution_count": 39,
   "metadata": {},
   "outputs": [],
   "source": [
    "with open('sample_text1.txt','r') as file1:\n",
    "    words=file1.read().split()\n",
    "w_Series=pd.Series(words)"
   ]
  },
  {
   "cell_type": "code",
   "execution_count": 46,
   "metadata": {},
   "outputs": [],
   "source": [
    "common=w_Series.value_counts()"
   ]
  },
  {
   "cell_type": "code",
   "execution_count": 48,
   "metadata": {},
   "outputs": [
    {
     "data": {
      "text/plain": [
       "'python'"
      ]
     },
     "execution_count": 48,
     "metadata": {},
     "output_type": "execute_result"
    }
   ],
   "source": [
    "common.index[0] #most common word"
   ]
  },
  {
   "cell_type": "code",
   "execution_count": 50,
   "metadata": {},
   "outputs": [],
   "source": [
    "diction={'hello':1,'mangrove':2,'zeph':3}"
   ]
  },
  {
   "cell_type": "code",
   "execution_count": 51,
   "metadata": {},
   "outputs": [],
   "source": [
    "import json\n",
    "with open('sample.json','a+') as file:\n",
    "    json.dump(diction,file)"
   ]
  },
  {
   "cell_type": "code",
   "execution_count": 54,
   "metadata": {},
   "outputs": [
    {
     "name": "stdout",
     "output_type": "stream",
     "text": [
      "{'hello': 1, 'mangrove': 2, 'zeph': 3}\n"
     ]
    }
   ],
   "source": [
    "with open('sample.json','r') as file:\n",
    "    print(json.load(file))"
   ]
  },
  {
   "cell_type": "code",
   "execution_count": null,
   "metadata": {},
   "outputs": [],
   "source": []
  }
 ],
 "metadata": {
  "kernelspec": {
   "display_name": "Python 3",
   "language": "python",
   "name": "python3"
  },
  "language_info": {
   "codemirror_mode": {
    "name": "ipython",
    "version": 3
   },
   "file_extension": ".py",
   "mimetype": "text/x-python",
   "name": "python",
   "nbconvert_exporter": "python",
   "pygments_lexer": "ipython3",
   "version": "3.12.2"
  }
 },
 "nbformat": 4,
 "nbformat_minor": 2
}
