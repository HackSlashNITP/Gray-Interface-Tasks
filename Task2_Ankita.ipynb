{
  "nbformat": 4,
  "nbformat_minor": 0,
  "metadata": {
    "colab": {
      "provenance": [],
      "mount_file_id": "1Hj0kgNY-ARFu5fZGkvOAGl5vXTSiD7sV",
      "authorship_tag": "ABX9TyP+pdeQNSdS8QxIZYlDCUWT",
      "include_colab_link": true
    },
    "kernelspec": {
      "name": "python3",
      "display_name": "Python 3"
    },
    "language_info": {
      "name": "python"
    }
  },
  "cells": [
    {
      "cell_type": "markdown",
      "metadata": {
        "id": "view-in-github",
        "colab_type": "text"
      },
      "source": [
        "<a href=\"https://colab.research.google.com/github/Ankita-3012/Gray-Interface-Tasks/blob/ankita1/Task2_Ankita.ipynb\" target=\"_parent\"><img src=\"https://colab.research.google.com/assets/colab-badge.svg\" alt=\"Open In Colab\"/></a>"
      ]
    },
    {
      "cell_type": "code",
      "execution_count": 79,
      "metadata": {
        "id": "dsHc8kHIsLGg"
      },
      "outputs": [],
      "source": [
        "import os"
      ]
    },
    {
      "cell_type": "code",
      "source": [
        "file1 = open('/content/file1.txt', 'r')"
      ],
      "metadata": {
        "id": "2leXVaNRIbg6"
      },
      "execution_count": 80,
      "outputs": []
    },
    {
      "cell_type": "code",
      "source": [
        "file2 = open('/content/file2.txt', 'w')"
      ],
      "metadata": {
        "id": "-jiJlkY3KK0X"
      },
      "execution_count": 81,
      "outputs": []
    },
    {
      "cell_type": "code",
      "source": [
        "for line in file1:\n",
        "  file2.write(line)"
      ],
      "metadata": {
        "id": "cxuSDrcYgyUC"
      },
      "execution_count": 82,
      "outputs": []
    },
    {
      "cell_type": "code",
      "source": [
        "file1.close()"
      ],
      "metadata": {
        "id": "pPla9GOkg6Fe"
      },
      "execution_count": 83,
      "outputs": []
    },
    {
      "cell_type": "code",
      "source": [
        "file2.close()"
      ],
      "metadata": {
        "id": "oeAcbGL3g9-g"
      },
      "execution_count": 84,
      "outputs": []
    },
    {
      "cell_type": "code",
      "source": [
        "file2 = open('/content/file2.txt', 'r')"
      ],
      "metadata": {
        "id": "VL7grVywg_8h"
      },
      "execution_count": 85,
      "outputs": []
    },
    {
      "cell_type": "code",
      "source": [
        "print(file2.read())"
      ],
      "metadata": {
        "colab": {
          "base_uri": "https://localhost:8080/"
        },
        "id": "RTp2QH36hG_3",
        "outputId": "258fc0a9-5382-460c-c4ab-d2f6acf3471b"
      },
      "execution_count": 86,
      "outputs": [
        {
          "output_type": "stream",
          "name": "stdout",
          "text": [
            "A flower, also known as a bloom or blossom, is the reproductive structure found in flowering plants.\n",
            "Flowers consist of a combination of vegetative organs – sepals that enclose and protect the developing flower, petals that attract pollinators, and reproductive organs that produce gametophytes, which in flowering plants produce gametes.\n",
            "The male gametophytes, which produce sperm, are enclosed within pollen grains produced in the anthers \n",
            "The female gametophytes are contained within the ovules produced in the carpels.\n"
          ]
        }
      ]
    },
    {
      "cell_type": "markdown",
      "source": [
        "Dictionary to a file"
      ],
      "metadata": {
        "id": "0S1DSomQjakL"
      }
    },
    {
      "cell_type": "code",
      "source": [
        "import pandas as pd\n",
        "import numpy as np"
      ],
      "metadata": {
        "id": "o257AKt8j5DA"
      },
      "execution_count": 87,
      "outputs": []
    },
    {
      "cell_type": "code",
      "source": [
        "Data = '{\"name\": \"James\", \"email\":\"james@gmail.com\", \"job_profile\": [{\"title1\": \"Team Lead\", \"title2\": \"senior dev\"}]}'\n",
        "df =pd.read_json(Data)"
      ],
      "metadata": {
        "id": "XCD1zYM1hLxw"
      },
      "execution_count": 88,
      "outputs": []
    },
    {
      "cell_type": "code",
      "source": [
        "df.to_json(orient=\"records\")"
      ],
      "metadata": {
        "colab": {
          "base_uri": "https://localhost:8080/",
          "height": 36
        },
        "id": "WQHcoJSJkANM",
        "outputId": "53b6032f-4c82-4dfc-88be-dbfdf598939d"
      },
      "execution_count": 89,
      "outputs": [
        {
          "output_type": "execute_result",
          "data": {
            "text/plain": [
              "'[{\"name\":\"James\",\"email\":\"james@gmail.com\",\"job_profile\":{\"title1\":\"Team Lead\",\"title2\":\"senior dev\"}}]'"
            ],
            "application/vnd.google.colaboratory.intrinsic+json": {
              "type": "string"
            }
          },
          "metadata": {},
          "execution_count": 89
        }
      ]
    },
    {
      "cell_type": "code",
      "source": [
        "import json"
      ],
      "metadata": {
        "id": "eqOTVPsZkId_"
      },
      "execution_count": 90,
      "outputs": []
    },
    {
      "cell_type": "code",
      "source": [
        "data = {'Name': 'James', 'email':'james@gmail.com', 'job_profile': 'Team lead'}"
      ],
      "metadata": {
        "id": "hU4kFdB3lWgE"
      },
      "execution_count": 91,
      "outputs": []
    },
    {
      "cell_type": "code",
      "source": [
        "with open('/content/file2.txt', 'a') as convert_file:\n",
        "  convert_file.write(json.dumps(data))"
      ],
      "metadata": {
        "id": "WDfvmUbVl0X2"
      },
      "execution_count": 92,
      "outputs": []
    },
    {
      "cell_type": "markdown",
      "source": [
        "File size:"
      ],
      "metadata": {
        "id": "HSl8uXT3GXJQ"
      }
    },
    {
      "cell_type": "code",
      "source": [
        "import os"
      ],
      "metadata": {
        "id": "J8xMV0O_GLxx"
      },
      "execution_count": 93,
      "outputs": []
    },
    {
      "cell_type": "code",
      "source": [
        "file_size = os.stat('/content/file2.txt')\n",
        "print(\"The file size is:\", file_size.st_size, \" bytes\")"
      ],
      "metadata": {
        "colab": {
          "base_uri": "https://localhost:8080/"
        },
        "id": "8SK5BRuhGbse",
        "outputId": "afbfe686-909e-4e47-b800-d584dda8cfaf"
      },
      "execution_count": 94,
      "outputs": [
        {
          "output_type": "stream",
          "name": "stdout",
          "text": [
            "The file size is: 597  bytes\n"
          ]
        }
      ]
    },
    {
      "cell_type": "markdown",
      "source": [
        "To find the most repeated word in a text file:"
      ],
      "metadata": {
        "id": "slWojj77HFt0"
      }
    },
    {
      "cell_type": "code",
      "source": [
        "from collections import Counter\n",
        "import os\n",
        "import string"
      ],
      "metadata": {
        "id": "-wi-RFLBKg1L"
      },
      "execution_count": 95,
      "outputs": []
    },
    {
      "cell_type": "code",
      "source": [
        "file = open('/content/file1.txt', 'r')"
      ],
      "metadata": {
        "id": "P-aWGhikKpSO"
      },
      "execution_count": 102,
      "outputs": []
    },
    {
      "cell_type": "code",
      "source": [
        "new_word_lst = []"
      ],
      "metadata": {
        "id": "d04t6EiQK63X"
      },
      "execution_count": 103,
      "outputs": []
    },
    {
      "cell_type": "code",
      "source": [
        "with file as filedata:\n",
        "  for textline in filedata:\n",
        "    wordslst = textline.split()\n",
        "    for word in wordslst:\n",
        "      new_word_lst.append(word)\n",
        ""
      ],
      "metadata": {
        "id": "DCdQjQFKLAsw"
      },
      "execution_count": 104,
      "outputs": []
    },
    {
      "cell_type": "code",
      "source": [
        "wordsfreq = Counter(new_word_lst)"
      ],
      "metadata": {
        "id": "TjNiKsDMLXTd"
      },
      "execution_count": 105,
      "outputs": []
    },
    {
      "cell_type": "code",
      "source": [
        "print(wordsfreq)"
      ],
      "metadata": {
        "colab": {
          "base_uri": "https://localhost:8080/"
        },
        "id": "VZqIEPtJMsom",
        "outputId": "d0f4df50-fc03-4806-f8b7-ab3c1f226f38"
      },
      "execution_count": 106,
      "outputs": [
        {
          "output_type": "stream",
          "name": "stdout",
          "text": [
            "Counter({'the': 5, 'in': 4, 'that': 3, 'produce': 3, 'flower,': 2, 'a': 2, 'reproductive': 2, 'flowering': 2, 'of': 2, 'organs': 2, 'and': 2, 'gametophytes,': 2, 'which': 2, 'The': 2, 'are': 2, 'within': 2, 'produced': 2, 'A': 1, 'also': 1, 'known': 1, 'as': 1, 'bloom': 1, 'or': 1, 'blossom,': 1, 'is': 1, 'structure': 1, 'found': 1, 'plants.': 1, 'Flowers': 1, 'consist': 1, 'combination': 1, 'vegetative': 1, '–': 1, 'sepals': 1, 'enclose': 1, 'protect': 1, 'developing': 1, 'petals': 1, 'attract': 1, 'pollinators,': 1, 'plants': 1, 'gametes.': 1, 'male': 1, 'sperm,': 1, 'enclosed': 1, 'pollen': 1, 'grains': 1, 'anthers': 1, 'female': 1, 'gametophytes': 1, 'contained': 1, 'ovules': 1, 'carpels.': 1})\n"
          ]
        }
      ]
    },
    {
      "cell_type": "code",
      "source": [
        "maxFreq = 0"
      ],
      "metadata": {
        "id": "cS76eLwzLhm1"
      },
      "execution_count": 107,
      "outputs": []
    },
    {
      "cell_type": "code",
      "source": [
        "for i in wordsfreq:\n",
        "  if(wordsfreq[i]>maxFreq):\n",
        "    maxFreq = wordsfreq[i]\n",
        "\n",
        "    mostRepeated_word = i\n",
        "\n",
        ""
      ],
      "metadata": {
        "id": "sZ7yt89fLjld"
      },
      "execution_count": 108,
      "outputs": []
    },
    {
      "cell_type": "code",
      "source": [
        "print('The most repested word is \"', mostRepeated_word, '\"')"
      ],
      "metadata": {
        "colab": {
          "base_uri": "https://localhost:8080/"
        },
        "id": "0VtrTvwuMQrj",
        "outputId": "d15db8cc-237c-4d79-e02a-50c9d10607a9"
      },
      "execution_count": 109,
      "outputs": [
        {
          "output_type": "stream",
          "name": "stdout",
          "text": [
            "The most repested word is \" the \"\n"
          ]
        }
      ]
    },
    {
      "cell_type": "markdown",
      "source": [
        "# To reading specific line"
      ],
      "metadata": {
        "id": "swkh9tNPP1o2"
      }
    },
    {
      "cell_type": "code",
      "source": [
        "import linecache"
      ],
      "metadata": {
        "id": "TdE7n7NLTPIM"
      },
      "execution_count": 120,
      "outputs": []
    },
    {
      "cell_type": "code",
      "source": [
        "specific_line = linecache.getline('/content/file1.txt', 3)"
      ],
      "metadata": {
        "id": "xJH7AjZoTRKO"
      },
      "execution_count": 121,
      "outputs": []
    },
    {
      "cell_type": "code",
      "source": [
        "print(specific_line)"
      ],
      "metadata": {
        "colab": {
          "base_uri": "https://localhost:8080/"
        },
        "id": "aczMsgXpTXik",
        "outputId": "bef53a86-e36b-4795-824b-e3331ee3e7a6"
      },
      "execution_count": 122,
      "outputs": [
        {
          "output_type": "stream",
          "name": "stdout",
          "text": [
            "The male gametophytes, which produce sperm, are enclosed within pollen grains produced in the anthers \n",
            "\n"
          ]
        }
      ]
    },
    {
      "cell_type": "code",
      "source": [
        "file = open('/content/file1.txt', 'r')"
      ],
      "metadata": {
        "id": "bAzfeck3Taq5"
      },
      "execution_count": 131,
      "outputs": []
    },
    {
      "cell_type": "code",
      "source": [
        "specified_line=[2, 3]\n",
        "line =[]\n",
        "for i, line in enumerate(file):\n",
        "  if i in specified_line:\n",
        "    lines.append(line.strip())\n",
        "  elif i>3:\n",
        "    break\n",
        "\n",
        "print(lines)"
      ],
      "metadata": {
        "colab": {
          "base_uri": "https://localhost:8080/"
        },
        "id": "7GggjGrMToBR",
        "outputId": "5b45ccd3-f54c-4c5a-c906-e7eed2cb264c"
      },
      "execution_count": 132,
      "outputs": [
        {
          "output_type": "stream",
          "name": "stdout",
          "text": [
            "['The male gametophytes, which produce sperm, are enclosed within pollen grains produced in the anthers', 'The female gametophytes are contained within the ovules produced in the carpels.']\n"
          ]
        }
      ]
    },
    {
      "cell_type": "code",
      "source": [],
      "metadata": {
        "id": "kHUbKeeHUIgx"
      },
      "execution_count": null,
      "outputs": []
    }
  ]
}